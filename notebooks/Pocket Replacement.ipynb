{
 "cells": [
  {
   "cell_type": "code",
   "execution_count": 1,
   "metadata": {},
   "outputs": [
    {
     "name": "stdout",
     "output_type": "stream",
     "text": [
      "environ({'PATH': '/usr/local/sbin:/usr/local/bin:/usr/sbin:/usr/bin:/sbin:/bin:/snap/bin', 'LANG': 'en_US.UTF-8', 'USER': 'spott', 'HOME': '/home/spott', 'SHELL': '/bin/zsh', 'JPY_PARENT_PID': '7824', 'TERM': 'xterm-color', 'CLICOLOR': '1', 'PAGER': 'cat', 'GIT_PAGER': 'cat', 'MPLBACKEND': 'module://ipykernel.pylab.backend_inline', 'POSTGRES_PASSWORD': 'ooCahc5ieth1aiNg', 'POSTGRES_DB': 'reddit_data'})\n"
     ]
    }
   ],
   "source": [
    "import matplotlib.pyplot as plt\n",
    "%matplotlib inline\n",
    "%config InlineBackend.figure_format='retina'\n",
    "\n",
    "# git repository directory\n",
    "from pathlib import Path\n",
    "git_dir = Path(\"/home/spott/code/pocket_replacement/\")\n",
    "\n",
    "# get 'environmental' variables:\n",
    "import os, re\n",
    "\n",
    "#check for 'export' lines.  This is *not* robust against lots of things, but it should work for this\n",
    "export_re = re.compile(r\"\"\"^export ([^=]+)=(['\\\"])([^\\2]*)\\2;?$\"\"\")\n",
    "\n",
    "with open(git_dir / \".env\", 'r') as env_file:\n",
    "    for line in env_file:\n",
    "        m = export_re.match(line)\n",
    "        if m:\n",
    "            os.environ[m.group(1)] = m.group(3)\n",
    "            \n",
    "print(os.environ)"
   ]
  },
  {
   "cell_type": "markdown",
   "metadata": {},
   "source": [
    "# Bookmark Recommendation Engine\n",
    "\n",
    "I want to generate a recommendation engine for bookmarks.  Ideally, individual articles (I am going to stick with articles for this engine) will be assigned a set of topics, allowing for a recommendation for the next bookmark to read.\n",
    "\n",
    "Getting the data for a page will involve:\n",
    "\n",
    "* Scraper:  Takes an article and downloads to a database.  Ideally uses cookies so that we can do things like scrape the NYTimes.\n",
    "* Parser: Given the source for an article (in the database), we get the \"article\" part (strip all the boilerplate).\n",
    "* Tokenize: Given an \"article\", turn it into a bag of words -- perhaps with some 2 or 3 -grams as well.\n",
    "\n",
    "Just using the bookmarks I have will make this more difficult:  I just don't have enough data (only 3-5k bookmarks/links).  However, using Hackernews and Reddit (and Big Query) will help drastically with this.  However, all of this is unlabeled data.  We would like to generate some labeled data, which is the tricky part."
   ]
  },
  {
   "cell_type": "markdown",
   "metadata": {},
   "source": [
    "## Developing a model:\n",
    "\n",
    "Before we can start labeling *our* data, we need a \"labeled\" dataset.  Since Hackernews and Reddit have Big Query databases for them, we have *some* data that we can use:\n",
    "\n",
    "### Reddit:\n",
    "\n",
    "[Reddit's Big Query](https://bigquery.cloud.google.com/table/fh-bigquery:reddit_posts.full_corpus_201512) has a few columns:\n",
    "\n",
    "* URL: we can scrape this in order to get the webpage content\n",
    "* title: this might have information that allows us to get some topic data out.\n",
    "* subreddit: this can be thought of as a \"topic\" for the article.  This isn't *always* useful (`/r/truereddit`, `/r/marijuanaenthusiasts`, `/r/longform`, etc. have topics that don't necessarily correlate with subreddit name), but should get us some information.\n",
    "* comment threads: this could give us more text about a page in order to better guess the topic... maybe.\n",
    "\n",
    "### Hackernews:\n",
    "\n",
    "Hackernews' Big Query:\n",
    "\n",
    "* URL\n",
    "* title\n",
    "* ID: this is the id of the post, from which we can get the full comment tree by looking at...\n",
    "* parent: the parent of this post, which also has an ID, and has text.\n",
    "* text: the text of the comment or \"ask HN\" thread.\n",
    "\n",
    "Initially, I'm going to focus on using Reddit to generate a \"labeled\" dataset.  The \"subreddit\" gives us a nice topic, and the title can be used to maybe refine that (or make sure we are on the right track?)"
   ]
  },
  {
   "cell_type": "markdown",
   "metadata": {},
   "source": [
    "## Big Query 'grab':\n",
    "\n",
    "The first part is grabbing the relevant data from Big Query.  We don't want *all* the data.  Around 2015, [this grew to *200,000* posts per day!](http://jeroendelcour.nl/blog/An-annotated-history-of-Reddits-growth-in-daily-submissions?1), which is just far more than I can realistically deal with.\n",
    "\n",
    "There are a few simiplifications we can start with:\n",
    "\n",
    "* Only choose posts that got more than 1 upvote, and more than 10 comments.  These requirements are likely overlapping, but should significantly thin the number of posts.\n",
    "* Remove common, very busy, non-text urls: `imgur` is an obvious one, `gfycat` is another.  We will need to do some analysis to see which URLs we should be removing.\n",
    "* Look at a smaller date range.\n",
    "* remove self posts\n",
    "\n",
    "Use [this](https://cloud.google.com/bigquery/docs/reference/libraries#client-libraries-install-python) quickstart guide to install the `google-cloud-sdk` and `google-cloud-bigquery` libraries."
   ]
  },
  {
   "cell_type": "markdown",
   "metadata": {},
   "source": [
    "### Some exploratory analysis:\n",
    "\n",
    "We first want to get a good list of domains to exclude.  The following sql will give the largest 10000 domains that are posted to reddit that aren't self-posts and have our vote and comment requirements:\n",
    "\n",
    "```SQL\n",
    "SELECT\n",
    "  domain,\n",
    "  COUNT(domain) AS count\n",
    "FROM\n",
    "  `fh-bigquery.reddit_posts.*`\n",
    "WHERE\n",
    "  (_TABLE_SUFFIX BETWEEN '2016_01' AND '2017_04' OR _TABLE_SUFFIX = 'full_corpus_201512')\n",
    "  AND is_self = FALSE\n",
    "  AND score > 1\n",
    "  AND num_comments > 10\n",
    "GROUP BY\n",
    "  domain\n",
    "ORDER BY\n",
    "  count DESC\n",
    "LIMIT\n",
    "  10000\n",
    "```\n",
    "\n",
    "Which generates data that can be seen [here](https://docs.google.com/spreadsheets/d/1NPnIq8-LeSJq6b95c_DzuA62CzV4a_srwDp7Asr8p1g/edit?usp=sharing), with the first 20 values shown here:"
   ]
  },
  {
   "cell_type": "code",
   "execution_count": 2,
   "metadata": {},
   "outputs": [
    {
     "data": {
      "text/html": [
       "<div>\n",
       "<style>\n",
       "    .dataframe thead tr:only-child th {\n",
       "        text-align: right;\n",
       "    }\n",
       "\n",
       "    .dataframe thead th {\n",
       "        text-align: left;\n",
       "    }\n",
       "\n",
       "    .dataframe tbody tr th {\n",
       "        vertical-align: top;\n",
       "    }\n",
       "</style>\n",
       "<table border=\"1\" class=\"dataframe\">\n",
       "  <thead>\n",
       "    <tr style=\"text-align: right;\">\n",
       "      <th></th>\n",
       "      <th>count</th>\n",
       "    </tr>\n",
       "    <tr>\n",
       "      <th>domain</th>\n",
       "      <th></th>\n",
       "    </tr>\n",
       "  </thead>\n",
       "  <tbody>\n",
       "    <tr>\n",
       "      <th>i.imgur.com</th>\n",
       "      <td>3925554</td>\n",
       "    </tr>\n",
       "    <tr>\n",
       "      <th>imgur.com</th>\n",
       "      <td>3854290</td>\n",
       "    </tr>\n",
       "    <tr>\n",
       "      <th>youtube.com</th>\n",
       "      <td>1353818</td>\n",
       "    </tr>\n",
       "    <tr>\n",
       "      <th>i.redd.it</th>\n",
       "      <td>591641</td>\n",
       "    </tr>\n",
       "    <tr>\n",
       "      <th>twitter.com</th>\n",
       "      <td>503207</td>\n",
       "    </tr>\n",
       "    <tr>\n",
       "      <th>i.reddituploads.com</th>\n",
       "      <td>356166</td>\n",
       "    </tr>\n",
       "    <tr>\n",
       "      <th>youtu.be</th>\n",
       "      <td>304224</td>\n",
       "    </tr>\n",
       "    <tr>\n",
       "      <th>gfycat.com</th>\n",
       "      <td>207913</td>\n",
       "    </tr>\n",
       "    <tr>\n",
       "      <th>reddit.com</th>\n",
       "      <td>172337</td>\n",
       "    </tr>\n",
       "    <tr>\n",
       "      <th>np.reddit.com</th>\n",
       "      <td>112643</td>\n",
       "    </tr>\n",
       "    <tr>\n",
       "      <th>en.wikipedia.org</th>\n",
       "      <td>90605</td>\n",
       "    </tr>\n",
       "    <tr>\n",
       "      <th>m.imgur.com</th>\n",
       "      <td>68324</td>\n",
       "    </tr>\n",
       "    <tr>\n",
       "      <th>theguardian.com</th>\n",
       "      <td>62777</td>\n",
       "    </tr>\n",
       "    <tr>\n",
       "      <th>instagram.com</th>\n",
       "      <td>53245</td>\n",
       "    </tr>\n",
       "    <tr>\n",
       "      <th>bbc.co.uk</th>\n",
       "      <td>48855</td>\n",
       "    </tr>\n",
       "    <tr>\n",
       "      <th>washingtonpost.com</th>\n",
       "      <td>48508</td>\n",
       "    </tr>\n",
       "    <tr>\n",
       "      <th>facebook.com</th>\n",
       "      <td>48492</td>\n",
       "    </tr>\n",
       "    <tr>\n",
       "      <th>streamable.com</th>\n",
       "      <td>47439</td>\n",
       "    </tr>\n",
       "    <tr>\n",
       "      <th>nytimes.com</th>\n",
       "      <td>47199</td>\n",
       "    </tr>\n",
       "    <tr>\n",
       "      <th>qkme.me</th>\n",
       "      <td>40304</td>\n",
       "    </tr>\n",
       "  </tbody>\n",
       "</table>\n",
       "</div>"
      ],
      "text/plain": [
       "                       count\n",
       "domain                      \n",
       "i.imgur.com          3925554\n",
       "imgur.com            3854290\n",
       "youtube.com          1353818\n",
       "i.redd.it             591641\n",
       "twitter.com           503207\n",
       "i.reddituploads.com   356166\n",
       "youtu.be              304224\n",
       "gfycat.com            207913\n",
       "reddit.com            172337\n",
       "np.reddit.com         112643\n",
       "en.wikipedia.org       90605\n",
       "m.imgur.com            68324\n",
       "theguardian.com        62777\n",
       "instagram.com          53245\n",
       "bbc.co.uk              48855\n",
       "washingtonpost.com     48508\n",
       "facebook.com           48492\n",
       "streamable.com         47439\n",
       "nytimes.com            47199\n",
       "qkme.me                40304"
      ]
     },
     "execution_count": 2,
     "metadata": {},
     "output_type": "execute_result"
    }
   ],
   "source": [
    "import pandas as pd\n",
    "url_df = pd.read_csv('https://docs.google.com/spreadsheets/d/' + \n",
    "                   '1NPnIq8-LeSJq6b95c_DzuA62CzV4a_srwDp7Asr8p1g' +\n",
    "                   '/export?gid=22342664&format=csv',\n",
    "                   # Set first column as rownames in data frame\n",
    "                   index_col=0)\n",
    "url_df.head(20)"
   ]
  },
  {
   "cell_type": "markdown",
   "metadata": {},
   "source": [
    "and a plot of the first 100 values.  This distribution has a pretty long tail, and a super-exponential falloff."
   ]
  },
  {
   "cell_type": "code",
   "execution_count": 3,
   "metadata": {},
   "outputs": [
    {
     "data": {
      "text/plain": [
       "<matplotlib.text.Text at 0x7fc1fdbc0da0>"
      ]
     },
     "execution_count": 3,
     "metadata": {},
     "output_type": "execute_result"
    },
    {
     "data": {
      "image/png": "[encoded data removed]",
      "text/plain": [
       "<matplotlib.figure.Figure at 0x7fc1fdc13048>"
      ]
     },
     "metadata": {
      "image/png": {
       "height": 323,
       "width": 400
      }
     },
     "output_type": "display_data"
    }
   ],
   "source": [
    "url_df[:100].plot(logy=True, legend=False);\n",
    "plt.setp( plt.gca().xaxis.get_majorticklabels(), rotation=45, horizontalalignment=\"right\");\n",
    "plt.ylabel(\"count\")"
   ]
  },
  {
   "cell_type": "markdown",
   "metadata": {},
   "source": [
    "#### Filtering out urls by hand:\n",
    "\n",
    "I really don't want some of these.  Some are images (`imgur.com`, `gfycat.com`, `qkme.me`, `i.minus.com` etc), video (`youtube.com`, `vimeo.com`, etc.), online stores (`amazon.com`, `store.steampowered.com`), or social media (`facebook.com`, `reddit.com`, etc.).  I will remove the following:"
   ]
  },
  {
   "cell_type": "code",
   "execution_count": 4,
   "metadata": {
    "collapsed": true
   },
   "outputs": [],
   "source": [
    "ignored_domains = list(set([\n",
    "    \"i.imgur.com\",\"imgur.com\",\"m.imgur.com\",\"vimeo.com\",\"youtube.com\",\"twitter.com\",\"youtu.be\",\"reddit.com\",\n",
    "    \"gfycat.com\",\"en.wikipedia.com\",\"qkme.me\",\"quickmeme.com\",\"livememe.com\",\"flickr.com\",\"facebook.com\",\n",
    "    \"soundcloud.com\",\"instagram.com\",\"liveleak.com\",\"i.minus.com\",\"amazon.com\",\"upload.wikimedia.org\",\n",
    "    \"store.steampowered.com\",\"kickstarter.com\",\"twitch.tv\",\"25.media.tumblr.com\",\"m.youtube.com\",\"streamable.com\",\n",
    "    \"github.com\",\"newegg.com\",\"strawpoll.me\",\"play.google.com\",\"vine.co\",\"vid.me\",\"31.media.tumblr.com\",\"ebay.com\",\n",
    "    \"okcupid.com\",\"vidble.com\",\"giant.gfycat.com\",\"38.media.tumblr.com\",\"media.tumblr.com\",\"reactiongifs.com\",\n",
    "    \"movies.netflix.com\",\"plus.google.com\",\"i.qkme.me\",\"i.reddituploads.com\",\"i.redd.it\",\"np.reddit.com\",\"reddit.com\",\n",
    "    \"livememe.com\",\"streamable.com\",\"euroshare.com\",\"media.giphy.com\",\"i.gyazo.com\",\"vid.me\",\"gyazo.com\",\"us.battle.net\"\n",
    "    \"imgflip.com\",\"itunes.apple.com\",\"en.m.wikipedia.com\",\"bestbuy.com\",\"giphy.com\"\n",
    "]));"
   ]
  },
  {
   "cell_type": "markdown",
   "metadata": {},
   "source": [
    "This isn't perfect. I likely have some false negatives (various blog posts will be ignored even though I want those), and false positives (I probably missed some of the image sites).  But it should work well enough."
   ]
  },
  {
   "cell_type": "markdown",
   "metadata": {},
   "source": [
    "### Getting a subset of the data into a bigquery table we can use:\n",
    "\n",
    "Then we will create a subset of the full reddit post dataset with the following restrictions (to start):\n",
    "\n",
    "* post created after Jan 1, 2010 (UTC epoch time: 1262304000)\n",
    "* score > 1\n",
    "* comments > 10\n",
    "* not a self post\n",
    "* has a subreddit (subreddit != \"null\")\n",
    "* not quarantined (unlikely to be spam?)\n",
    "* not in `ignored_domains` list\n",
    "* LIMIT 10,000,000 for the moment.\n",
    "\n",
    "This results in the SQL query:\n",
    "\n",
    "```SQL\n",
    "SELECT created_utc, subreddit, domain, url, num_comments, score, ups, downs, title, permalink, gilded\n",
    "  FROM `fh-bigquery.reddit_posts.*` WHERE \n",
    "  (_TABLE_SUFFIX BETWEEN '2016_01' AND '2017_04' OR _TABLE_SUFFIX = 'full_corpus_201512')\n",
    "  AND created_utc > 1356998400 \n",
    "  AND quarantine = FALSE\n",
    "  AND is_self = FALSE \n",
    "  AND subreddit != \"null\" \n",
    "  AND num_comments > 10 \n",
    "  AND score > 1\n",
    "  AND domain NOT IN 'ignored_domains'\n",
    "  LIMIT 10000000\n",
    "```\n",
    "\n",
    "where `'ignored_domains'` is the list from above.  This is easiest to do by generating the sql statement in python:"
   ]
  },
  {
   "cell_type": "code",
   "execution_count": 5,
   "metadata": {},
   "outputs": [
    {
     "name": "stdout",
     "output_type": "stream",
     "text": [
      "\n",
      "SELECT created_utc, subreddit, domain, url, num_comments, score, ups, downs, title, permalink, gilded\n",
      "  FROM `fh-bigquery.reddit_posts.*` WHERE \n",
      "  (_TABLE_SUFFIX BETWEEN '2016_01' AND '2017_04' OR _TABLE_SUFFIX = 'full_corpus_201512')\n",
      "  AND created_utc > 1356998400 \n",
      "  AND quarantine = FALSE\n",
      "  AND is_self = FALSE \n",
      "  AND subreddit != \"null\" \n",
      "  AND num_comments > 10 \n",
      "  AND score > 1\n",
      "  AND domain NOT IN ('play.google.com','qkme.me','flickr.com','newegg.com','reddit.com','streamable.com','movies.netflix.com','euroshare.com','gfycat.com','i.redd.it','i.minus.com','vidble.com','imgur.com','twitch.tv','ebay.com','en.wikipedia.com','gyazo.com','m.youtube.com','plus.google.com','store.steampowered.com','youtu.be','soundcloud.com','livememe.com','i.imgur.com','strawpoll.me','i.gyazo.com','giphy.com','okcupid.com','i.reddituploads.com','quickmeme.com','vine.co','en.m.wikipedia.com','media.giphy.com','38.media.tumblr.com','liveleak.com','vid.me','amazon.com','kickstarter.com','m.imgur.com','reactiongifs.com','itunes.apple.com','twitter.com','youtube.com','31.media.tumblr.com','25.media.tumblr.com','upload.wikimedia.org','instagram.com','facebook.com','giant.gfycat.com','media.tumblr.com','vimeo.com','np.reddit.com','github.com','us.battle.netimgflip.com','bestbuy.com','i.qkme.me')\n",
      "  LIMIT 10000000\n",
      "\n"
     ]
    }
   ],
   "source": [
    "reduce_sql = f\"\"\"\n",
    "SELECT created_utc, subreddit, domain, url, num_comments, score, ups, downs, title, permalink, gilded\n",
    "  FROM `fh-bigquery.reddit_posts.*` WHERE \n",
    "  (_TABLE_SUFFIX BETWEEN '2016_01' AND '2017_04' OR _TABLE_SUFFIX = 'full_corpus_201512')\n",
    "  AND created_utc > 1356998400 \n",
    "  AND quarantine = FALSE\n",
    "  AND is_self = FALSE \n",
    "  AND subreddit != \"null\" \n",
    "  AND num_comments > 10 \n",
    "  AND score > 1\n",
    "  AND domain NOT IN ({','.join(\"'\" + x + \"'\" for x in ignored_domains)})\n",
    "  LIMIT 10000000\n",
    "\"\"\"\n",
    "print(reduce_sql)"
   ]
  },
  {
   "cell_type": "markdown",
   "metadata": {},
   "source": [
    "This created ~4.6 million rows and 1.35 GB of data.  Once you strip out all the image sites and self-posts, reddit gets a lot smaller.  This isn't really \"big data\", though we haven't even started downloading webpages yet.\n",
    "\n",
    "We can play around with this data, getting individual rows as dicts (we wouldn't want to do this for more than a handful of rows though... far too much data duplication):"
   ]
  },
  {
   "cell_type": "code",
   "execution_count": 6,
   "metadata": {},
   "outputs": [
    {
     "name": "stdout",
     "output_type": "stream",
     "text": [
      "{ 'created_utc': 1491262105,\n",
      "  'domain': 'latimes.com',\n",
      "  'downs': None,\n",
      "  'gilded': 0,\n",
      "  'num_comments': 89,\n",
      "  'permalink': '/r/flying/comments/63ai5z/glad_to_hear_that_harrison_ford_wont_face/',\n",
      "  'score': 98,\n",
      "  'subreddit': 'flying',\n",
      "  'title': \"Glad to hear that Harrison Ford won't face disciplinary action for \"\n",
      "           \"landing on a taxiway at John Wayne Airport. It's a big mistake, \"\n",
      "           \"but face it, we've all made one.\",\n",
      "  'ups': None,\n",
      "  'url': 'http://www.latimes.com/local/lanow/la-me-ln-ford-taxiway-agreement-20170331-story.html'}\n",
      "{ 'created_utc': 1491323478,\n",
      "  'domain': 'dallasnews.com',\n",
      "  'downs': None,\n",
      "  'gilded': 0,\n",
      "  'num_comments': 83,\n",
      "  'permalink': '/r/Dallas/comments/63f79d/frisco_homeowner_with_nosoliciting_sign_shoots/',\n",
      "  'score': 125,\n",
      "  'subreddit': 'Dallas',\n",
      "  'title': 'Frisco homeowner with no-soliciting sign shoots door-to-door '\n",
      "           'salesman, police say',\n",
      "  'ups': None,\n",
      "  'url': 'http://www.dallasnews.com/news/frisco/2017/04/03/man-arrested-shooting-wounded-44-year-old-man-frisco'}\n",
      "{ 'created_utc': 1484621871,\n",
      "  'domain': 'pps.net',\n",
      "  'downs': None,\n",
      "  'gilded': 0,\n",
      "  'num_comments': 58,\n",
      "  'permalink': '/r/Portland/comments/5ofiej/pps_tuesday_january_17_all_schools_and_offices/',\n",
      "  'score': 61,\n",
      "  'subreddit': 'Portland',\n",
      "  'title': 'PPS: Tuesday, January 17: All schools and offices closed',\n",
      "  'ups': None,\n",
      "  'url': 'http://www.pps.net/site/default.aspx?PageType=3&amp;DomainID=61&amp;ModuleInstanceID=1492&amp;PageModuleInstanceID=18016&amp;ViewID=ad4d6d9d-7046-48e7-a548-a6a23a68d076&amp;RenderLoc=0&amp;FlexDataID=53578&amp;PageID=124&amp;IsMoreExpandedView=True'}\n"
     ]
    }
   ],
   "source": [
    "def get_table():\n",
    "    #from google.cloud import bigquery\n",
    "    from google.cloud.bigquery import Client as BQClient\n",
    "\n",
    "    # Create a client, and get the table that we are interested in:\n",
    "    bigquery_client = BQClient(project=\"pocketreplacement\")\n",
    "    dataset_name = 'RedditData'\n",
    "    dataset = bigquery_client.dataset(dataset_name)\n",
    "    table = dataset.table(\"subset\")\n",
    "    table.reload()\n",
    "    return table\n",
    "\n",
    "def get_schema(table):\n",
    "    return tuple(x.name for x in table.schema)\n",
    "\n",
    "def print_n_results(n=3):\n",
    "    import pprint\n",
    "    table = get_table()\n",
    "    data_iter = table.fetch_data(max_results=n)\n",
    "    schema = get_schema(table)\n",
    "\n",
    "    pp = pprint.PrettyPrinter(indent=2)\n",
    "\n",
    "    for row in data_iter:\n",
    "        pp.pprint(dict(zip(schema,row)))\n",
    "        \n",
    "print_n_results()"
   ]
  },
  {
   "cell_type": "markdown",
   "metadata": {},
   "source": [
    "We can create a pandas dataframe from this, but unfortunately there doesn't appear to be a way to do this without first converting the interator to a list.  This likely won't scale very well.  We want to put this into a database of some kind so we can try and do interesting things with it."
   ]
  },
  {
   "cell_type": "code",
   "execution_count": 7,
   "metadata": {},
   "outputs": [
    {
     "data": {
      "text/html": [
       "<div>\n",
       "<style>\n",
       "    .dataframe thead tr:only-child th {\n",
       "        text-align: right;\n",
       "    }\n",
       "\n",
       "    .dataframe thead th {\n",
       "        text-align: left;\n",
       "    }\n",
       "\n",
       "    .dataframe tbody tr th {\n",
       "        vertical-align: top;\n",
       "    }\n",
       "</style>\n",
       "<table border=\"1\" class=\"dataframe\">\n",
       "  <thead>\n",
       "    <tr style=\"text-align: right;\">\n",
       "      <th></th>\n",
       "      <th>created_utc</th>\n",
       "      <th>subreddit</th>\n",
       "      <th>domain</th>\n",
       "      <th>url</th>\n",
       "      <th>num_comments</th>\n",
       "      <th>score</th>\n",
       "      <th>ups</th>\n",
       "      <th>downs</th>\n",
       "      <th>title</th>\n",
       "      <th>permalink</th>\n",
       "      <th>gilded</th>\n",
       "    </tr>\n",
       "  </thead>\n",
       "  <tbody>\n",
       "    <tr>\n",
       "      <th>0</th>\n",
       "      <td>1491262105</td>\n",
       "      <td>flying</td>\n",
       "      <td>latimes.com</td>\n",
       "      <td>http://www.latimes.com/local/lanow/la-me-ln-fo...</td>\n",
       "      <td>89</td>\n",
       "      <td>98</td>\n",
       "      <td>None</td>\n",
       "      <td>None</td>\n",
       "      <td>Glad to hear that Harrison Ford won't face dis...</td>\n",
       "      <td>/r/flying/comments/63ai5z/glad_to_hear_that_ha...</td>\n",
       "      <td>0</td>\n",
       "    </tr>\n",
       "    <tr>\n",
       "      <th>1</th>\n",
       "      <td>1491323478</td>\n",
       "      <td>Dallas</td>\n",
       "      <td>dallasnews.com</td>\n",
       "      <td>http://www.dallasnews.com/news/frisco/2017/04/...</td>\n",
       "      <td>83</td>\n",
       "      <td>125</td>\n",
       "      <td>None</td>\n",
       "      <td>None</td>\n",
       "      <td>Frisco homeowner with no-soliciting sign shoot...</td>\n",
       "      <td>/r/Dallas/comments/63f79d/frisco_homeowner_wit...</td>\n",
       "      <td>0</td>\n",
       "    </tr>\n",
       "    <tr>\n",
       "      <th>2</th>\n",
       "      <td>1484621871</td>\n",
       "      <td>Portland</td>\n",
       "      <td>pps.net</td>\n",
       "      <td>http://www.pps.net/site/default.aspx?PageType=...</td>\n",
       "      <td>58</td>\n",
       "      <td>61</td>\n",
       "      <td>None</td>\n",
       "      <td>None</td>\n",
       "      <td>PPS: Tuesday, January 17: All schools and offi...</td>\n",
       "      <td>/r/Portland/comments/5ofiej/pps_tuesday_januar...</td>\n",
       "      <td>0</td>\n",
       "    </tr>\n",
       "    <tr>\n",
       "      <th>3</th>\n",
       "      <td>1487100709</td>\n",
       "      <td>AdviceAnimals</td>\n",
       "      <td>imgflip.com</td>\n",
       "      <td>https://imgflip.com/i/1jn3pz#XidFB0YXOKL7HXIB.16</td>\n",
       "      <td>58</td>\n",
       "      <td>667</td>\n",
       "      <td>None</td>\n",
       "      <td>None</td>\n",
       "      <td>At least it happened before I bought her Valen...</td>\n",
       "      <td>/r/AdviceAnimals/comments/5u2f58/at_least_it_h...</td>\n",
       "      <td>0</td>\n",
       "    </tr>\n",
       "    <tr>\n",
       "      <th>4</th>\n",
       "      <td>1483812133</td>\n",
       "      <td>Smite</td>\n",
       "      <td>clips.twitch.tv</td>\n",
       "      <td>https://clips.twitch.tv/omegaqtz/KindGorillaSu...</td>\n",
       "      <td>183</td>\n",
       "      <td>223</td>\n",
       "      <td>None</td>\n",
       "      <td>None</td>\n",
       "      <td>Omega Roasting weak3n</td>\n",
       "      <td>/r/Smite/comments/5mlr45/omega_roasting_weak3n/</td>\n",
       "      <td>0</td>\n",
       "    </tr>\n",
       "  </tbody>\n",
       "</table>\n",
       "</div>"
      ],
      "text/plain": [
       "   created_utc      subreddit           domain  \\\n",
       "0   1491262105         flying      latimes.com   \n",
       "1   1491323478         Dallas   dallasnews.com   \n",
       "2   1484621871       Portland          pps.net   \n",
       "3   1487100709  AdviceAnimals      imgflip.com   \n",
       "4   1483812133          Smite  clips.twitch.tv   \n",
       "\n",
       "                                                 url  num_comments  score  \\\n",
       "0  http://www.latimes.com/local/lanow/la-me-ln-fo...            89     98   \n",
       "1  http://www.dallasnews.com/news/frisco/2017/04/...            83    125   \n",
       "2  http://www.pps.net/site/default.aspx?PageType=...            58     61   \n",
       "3   https://imgflip.com/i/1jn3pz#XidFB0YXOKL7HXIB.16            58    667   \n",
       "4  https://clips.twitch.tv/omegaqtz/KindGorillaSu...           183    223   \n",
       "\n",
       "    ups downs                                              title  \\\n",
       "0  None  None  Glad to hear that Harrison Ford won't face dis...   \n",
       "1  None  None  Frisco homeowner with no-soliciting sign shoot...   \n",
       "2  None  None  PPS: Tuesday, January 17: All schools and offi...   \n",
       "3  None  None  At least it happened before I bought her Valen...   \n",
       "4  None  None                              Omega Roasting weak3n   \n",
       "\n",
       "                                           permalink  gilded  \n",
       "0  /r/flying/comments/63ai5z/glad_to_hear_that_ha...       0  \n",
       "1  /r/Dallas/comments/63f79d/frisco_homeowner_wit...       0  \n",
       "2  /r/Portland/comments/5ofiej/pps_tuesday_januar...       0  \n",
       "3  /r/AdviceAnimals/comments/5u2f58/at_least_it_h...       0  \n",
       "4    /r/Smite/comments/5mlr45/omega_roasting_weak3n/       0  "
      ]
     },
     "execution_count": 7,
     "metadata": {},
     "output_type": "execute_result"
    }
   ],
   "source": [
    "table = get_table()\n",
    "data_iter = list(table.fetch_data(max_results=100))\n",
    "schema = tuple(x.name for x in table.schema)\n",
    "\n",
    "reddit_df = pd.DataFrame(data_iter, columns=schema)\n",
    "reddit_df.head(5)"
   ]
  },
  {
   "cell_type": "markdown",
   "metadata": {
    "collapsed": true
   },
   "source": [
    "## Scraping pages:\n",
    "\n",
    "The next step is to download the pages, along with the data from BigQuery to a local database where we can work with it.  This is done asynchronously, and not in a jupyter notebook (for obvious reasons), but I'll cover the basics of how pages are downloaded and inserted here.\n",
    "\n",
    "The first thing to keep in mind is that we are going to try and download a few million URLs.  At 1 Meg a page (an overestimate for most pages... we are only interested in the text part of the page), that is roughly 5 TB!  This kind of data requires us to do a fair amount of the preprocessing up front:  We don't want to store more than we have to.\n",
    "\n",
    "I also don't want to wait around for these pages to download before starting the next one, which demands an async tool.\n",
    "\n",
    "I use `aiohttp` for async HTTP \"getter\", and `newspaper` as an \"article extractor\".  We will store this into a database using `asyncpg`.\n",
    "\n",
    "An example of getting a webpage using `aiohttp`  (from the docs).  This will be done for each page:"
   ]
  },
  {
   "cell_type": "code",
   "execution_count": 8,
   "metadata": {},
   "outputs": [
    {
     "name": "stdout",
     "output_type": "stream",
     "text": [
      "<!doctype html>\n",
      "<!--[if lt IE 7]>   <html class=\"no-js ie6 lt-ie7 lt-ie8 lt-ie9\">   <![endif]-->\n",
      "<!--[if IE 7]>      <html class=\"no-js ie7 lt-ie8 lt-ie9\">          <![endif]-->\n",
      "<!--[if IE 8]>      <html class=\"no-js ie8 lt-ie9\">                 <![endif]-->\n",
      "<!--[if gt IE 8]><!--><html class=\"no-js\" lang=\"en\" dir=\"ltr\">  <!--<![endif]-->\n",
      "\n",
      "<head>\n",
      "    <meta charset=\"utf-8\">\n",
      "    <meta http-equiv=\"X-UA-Compatible\" content=\"IE=edge\">\n",
      "\n",
      "    <link rel=\"prefetch\" href=\"//ajax.googleapis.com/ajax/libs/jquery/1.8.2/jquery.min.js\">\n",
      "\n",
      "    <meta name=\"application-name\" content=\"Python.org\">\n",
      "    <meta name=\"msapplication-tooltip\" content=\"The official home of the Python Programming Language\">\n",
      "    <meta name=\"apple-mobile-web-app-title\" content=\"Python.org\">\n",
      "    <meta name=\"apple-mobile-web-app-capable\" content=\"yes\">\n",
      "    <meta name=\"apple-mobile-web-app-status-bar-style\" content=\"black\">\n",
      "\n",
      "    <meta name=\"viewport\" content=\"width=device-width, initial-scale=1.0\">\n",
      "    <meta name=\"HandheldFriendly\" conte[...]\n"
     ]
    }
   ],
   "source": [
    "import aiohttp\n",
    "import asyncio\n",
    "import async_timeout\n",
    "\n",
    "async def fetch(session, url):\n",
    "    with async_timeout.timeout(10):\n",
    "        async with session.get(url) as response:\n",
    "            return await response.text()\n",
    "\n",
    "async def main():\n",
    "    async with aiohttp.ClientSession() as session:\n",
    "        html = await fetch(session, 'http://python.org')\n",
    "        print(html[:1000] + \"[...]\")\n",
    "\n",
    "loop = asyncio.get_event_loop()\n",
    "loop.run_until_complete(main())"
   ]
  },
  {
   "cell_type": "markdown",
   "metadata": {},
   "source": [
    "### Database itself:\n",
    "\n",
    "I'm using docker for the database, in order to introduce myself to this tool.  I'm using the `docker-py` package, so I can create and run the docker containers from python, and the [`local-persist`](https://github.com/CWSpear/local-persist#benefits) volume driver to keep the database persistant and movable.\n",
    "\n",
    "First get the location of this notebook.  We will put the data in a local data directory."
   ]
  },
  {
   "cell_type": "code",
   "execution_count": 9,
   "metadata": {
    "collapsed": true
   },
   "outputs": [],
   "source": [
    "import docker\n",
    "\n",
    "client = docker.from_env()\n",
    "data_dir = git_dir / \"data\" / \"data\""
   ]
  },
  {
   "cell_type": "markdown",
   "metadata": {},
   "source": [
    "generate a password for the database (possibly using something like:\n",
    "```\n",
    "export POSTGRES_PASSWORD='`pwgen 16 1`'\n",
    "```\n",
    ") and retrieve it into a variable"
   ]
  },
  {
   "cell_type": "code",
   "execution_count": 10,
   "metadata": {
    "collapsed": true
   },
   "outputs": [],
   "source": [
    "import os\n",
    "pg_password = os.environ['POSTGRES_PASSWORD']\n",
    "pg_database = os.environ['POSTGRES_DB']"
   ]
  },
  {
   "cell_type": "code",
   "execution_count": 11,
   "metadata": {},
   "outputs": [
    {
     "name": "stdout",
     "output_type": "stream",
     "text": [
      "ooCahc5ieth1aiNg reddit_data\n"
     ]
    }
   ],
   "source": [
    "print(pg_password, pg_database)"
   ]
  },
  {
   "cell_type": "markdown",
   "metadata": {},
   "source": [
    "Get the database volume if it exists, else create it:"
   ]
  },
  {
   "cell_type": "code",
   "execution_count": 12,
   "metadata": {
    "collapsed": true
   },
   "outputs": [],
   "source": [
    "try:\n",
    "    database_loc = client.volumes.get(\"database_loc\")\n",
    "except docker.errors.APIError as e1:\n",
    "    print(\"probably couldn't find volume 'database_loc', attempting to create it:\")\n",
    "    try:\n",
    "        database_loc = client.volumes.create(name=\"database_loc\",\n",
    "                                             driver=\"local-persist\",\n",
    "                                             driver_opts={\"mountpoint\":data_dir.as_posix()})\n",
    "    except docker.errors.APIError as e1:\n",
    "        print(\"Couldn't obtain or create the volume.  Maybe docker is misconfigured?\")\n",
    "        print(f\"exception from get: {e1}\")\n",
    "        print(f\"exception from create: {e2}\")"
   ]
  },
  {
   "cell_type": "markdown",
   "metadata": {},
   "source": [
    "Get the database container if it exists, else create it.  Note that this is not ideal because the Postgres container is facing the world.  Ideally we would link the Postgres container with a container running the python scraper, so that the attack surface is constrained.  This isn't going into anything resembling production though, so we won't worry about that now."
   ]
  },
  {
   "cell_type": "code",
   "execution_count": 13,
   "metadata": {
    "collapsed": true
   },
   "outputs": [],
   "source": [
    "try:\n",
    "    db = client.containers.get(\"db\")\n",
    "except docker.errors.APIError as e1:\n",
    "    print(\"probably couldn't find container 'db', attempting to create it:\")\n",
    "    try:\n",
    "        db = client.containers.create(\"postgres\",\n",
    "                                       detach=True,\n",
    "                                       name=\"db\",\n",
    "                                       environment={\"POSTGRES_PASSWORD\":pg_password, \n",
    "                                                    \"POSTGRES_DB\":pg_database},\n",
    "                                       volumes={database_loc.name: \n",
    "                                                {'bind': '/var/lib/postgresql/data',\n",
    "                                                 'mode': 'rw'}},\n",
    "                                       \n",
    "                                       ports={\"5432/tcp\": 5432}\n",
    "                                      )\n",
    "    except docker.errors.APIError as e2:\n",
    "        print(\"Couldn't obtain or create the volume.  Maybe docker is misconfigured?\")\n",
    "        print(f\"exception from get: {e1}\")\n",
    "        print(f\"exception from create: {e2}\")"
   ]
  },
  {
   "cell_type": "markdown",
   "metadata": {},
   "source": [
    "Finally start the container if it needs to be started\""
   ]
  },
  {
   "cell_type": "code",
   "execution_count": 14,
   "metadata": {},
   "outputs": [
    {
     "name": "stdout",
     "output_type": "stream",
     "text": [
      "container is running\n"
     ]
    }
   ],
   "source": [
    "import time\n",
    "\n",
    "db.reload()\n",
    "\n",
    "if db.status != \"running\":\n",
    "    db.start()\n",
    "    time.sleep(1) # wait for a second and check again\n",
    "    if db.status != \"running\":\n",
    "        print(\"container started and then stopped again...\")\n",
    "else:\n",
    "    print(\"container is running\")"
   ]
  },
  {
   "cell_type": "markdown",
   "metadata": {},
   "source": [
    "### Database schema\n",
    "\n",
    "We also need a database schema for our data.  We will add a `html` and a `article` field for each `url`, which we will break out into a separate table in order to protect from reposts.  We will also break out the `domain` and `subreddit` fields into seperate tables and reference them as well.  So we will create our database as:\n",
    "\n",
    "```SQL\n",
    "\n",
    "CREATE DATABASE reddit_data;\n",
    "\n",
    "CREATE TABLE subreddits (\n",
    "  subreddit serial PRIMARY KEY,\n",
    "  name text NOT NULL UNIQUE\n",
    ");\n",
    "\n",
    "CREATE TABLE domains (\n",
    "  domain serial PRIMARY KEY,\n",
    "  name text NOT NULL UNIQUE\n",
    ");\n",
    "\n",
    "-- This saves us from reposts.  A repost will not take up (too much) more space, but we will still get\n",
    "-- more information (from more subreddits)\n",
    "CREATE TABLE urls (\n",
    "  url serial PRIMARY KEY,\n",
    "  name text NOT NULL UNIQUE,\n",
    "  domain integer NOT NULL REFERENCES domains (domain),    -- this is a key into the domains table\n",
    "  html bytea NOT NULL,                           -- we want bytes for this to handle different encodings well.\n",
    "  article text NOT NULL                          -- we want text for this.  We will convert the article text to UTF8\n",
    ");\n",
    "\n",
    "CREATE TABLE post (\n",
    "  id char(6),                                          -- extracted from the permalink\n",
    "  created timestamp NOT NULL,                          -- converted from the UTC date in epoch time\n",
    "  subreddit integer NOT NULL REFERENCES subreddits (subreddit), -- this is a key into the subreddit table\n",
    "  url integer NOT NULL REFERENCES urls (url),                    -- a key into the url table\n",
    "  num_comments int,\n",
    "  score int,        \n",
    "  ups int,\n",
    "  downs int,\n",
    "  title text,\n",
    "  permalink text,\n",
    "  gilded int,\n",
    "  PRIMARY KEY (id, subreddit)-- our primary key is a combination of the subreddit and the id\n",
    ");\n",
    "```\n",
    "\n",
    "The database has been added already (the environment variable 'POSTGRES_DB' did that for us), we just need to create the tables."
   ]
  },
  {
   "cell_type": "code",
   "execution_count": 15,
   "metadata": {
    "collapsed": true
   },
   "outputs": [],
   "source": [
    "import asyncio\n",
    "import asyncpg\n",
    "\n",
    "\n",
    "async def create_tables():\n",
    "    conn = await asyncpg.connect(user=\"postgres\",password=pg_password, database=pg_database,host=\"127.0.0.1\")\n",
    "    \n",
    "    print(\"creating table 'subreddits'\")\n",
    "    try:\n",
    "        await conn.execute('''\n",
    "            CREATE TABLE subreddits (\n",
    "              subreddit serial PRIMARY KEY,\n",
    "              name text NOT NULL UNIQUE\n",
    "            )\n",
    "        ''')\n",
    "    except asyncpg.DuplicateTableError as e: \n",
    "        print(e)\n",
    "    \n",
    "    print(\"creating table 'domains'\")\n",
    "    try:\n",
    "        await conn.execute('''\n",
    "            CREATE TABLE domains (\n",
    "              domain serial PRIMARY KEY,\n",
    "              name text NOT NULL UNIQUE\n",
    "            )\n",
    "        ''')\n",
    "    except asyncpg.DuplicateTableError as e: \n",
    "        print(e)\n",
    "    \n",
    "    print(\"creating table 'urls'\")\n",
    "    try:\n",
    "        await conn.execute('''\n",
    "            CREATE TABLE urls (\n",
    "              url serial PRIMARY KEY,\n",
    "              name text UNIQUE,\n",
    "              domain integer NOT NULL REFERENCES domains (domain),\n",
    "              html bytea NOT NULL,\n",
    "              article text NOT NULL\n",
    "            )\n",
    "        ''')\n",
    "    except asyncpg.DuplicateTableError as e: \n",
    "        print(e)\n",
    "    \n",
    "    print(\"creating table 'posts'\")\n",
    "    try:\n",
    "        await conn.execute('''\n",
    "            CREATE TABLE posts (\n",
    "              id char(6),                                         \n",
    "              created timestamp NOT NULL,                         \n",
    "              subreddit integer NOT NULL REFERENCES subreddits (subreddit), \n",
    "              url integer NOT NULL REFERENCES urls (url),\n",
    "              num_comments int,\n",
    "              score int,        \n",
    "              ups int,\n",
    "              downs int,\n",
    "              title text,\n",
    "              permalink text,\n",
    "              gilded int,\n",
    "              PRIMARY KEY (id, subreddit)\n",
    "            );\n",
    "        ''')\n",
    "    except asyncpg.DuplicateTableError as e:\n",
    "        print(e)\n",
    "    \n",
    "    await conn.close()\n"
   ]
  },
  {
   "cell_type": "code",
   "execution_count": 16,
   "metadata": {},
   "outputs": [
    {
     "name": "stdout",
     "output_type": "stream",
     "text": [
      "creating table 'subreddits'\n",
      "relation \"subreddits\" already exists\n",
      "creating table 'domains'\n",
      "relation \"domains\" already exists\n",
      "creating table 'urls'\n",
      "relation \"urls\" already exists\n",
      "creating table 'posts'\n",
      "relation \"posts\" already exists\n"
     ]
    }
   ],
   "source": [
    "asyncio.get_event_loop().run_until_complete(create_tables())"
   ]
  },
  {
   "cell_type": "markdown",
   "metadata": {},
   "source": [
    "### Retrieving and parsing a url:"
   ]
  },
  {
   "cell_type": "code",
   "execution_count": 17,
   "metadata": {},
   "outputs": [
    {
     "data": {
      "text/plain": [
       "'<div><p id=\"id1\"></p> \\n<p>This section of the docs shows how to do some useful but advanced things\\nwith newspaper.</p>\\n<h2>Multi-threading article downloads<a class=\"headerlink\" href=\"#multi-threading-article-downloads\" title=\"Permalink to this headline\">&#182;</a></h2>\\n<p><strong>Downloading articles one at a time is slow.</strong> But spamming a single news source\\nlike cnn.com with tons of threads or with ASYNC-IO will cause rate limiting\\nand also doing that is very mean.</p>\\n<p>We solve this problem by allocating 1-2 threads per news source to both greatly\\nspeed up the download time while being respectful.</p>\\n<pre><p></p><p class=\"gp\">&gt;&gt;&gt; </p><p class=\"kn\">import</p> <p class=\"nn\">newspaper</p>\\n<p class=\"gp\">&gt;&gt;&gt; </p><p class=\"kn\">from</p> <p class=\"nn\">newspaper</p> <p class=\"kn\">import</p> <p class=\"n\">news_pool</p>\\n\\n<p class=\"gp\">&gt;&gt;&gt; </p><p class=\"n\">slate_paper</p> <p class=\"o\">=</p> <p class=\"n\">newspaper</p><p class=\"o\">.</p><p class=\"n\">build</p><p class=\"p\">(</p><p class=\"s1\">\\'http://slate.com\\'</p><p class=\"p\">)</p>\\n<p class=\"gp\">&gt;&gt;&gt; </p><p class=\"n\">tc_paper</p> <p class=\"o\">=</p> <p class=\"n\">newspaper</p><p class=\"o\">.</p><p class=\"n\">build</p><p class=\"p\">(</p><p class=\"s1\">\\'http://techcrunch.com\\'</p><p class=\"p\">)</p>\\n<p class=\"gp\">&gt;&gt;&gt; </p><p class=\"n\">espn_paper</p> <p class=\"o\">=</p> <p class=\"n\">newspaper</p><p class=\"o\">.</p><p class=\"n\">build</p><p class=\"p\">(</p><p class=\"s1\">\\'http://espn.com\\'</p><p class=\"p\">)</p>\\n\\n<p class=\"gp\">&gt;&gt;&gt; </p><p class=\"n\">papers</p> <p class=\"o\">=</p> <p class=\"p\">[</p><p class=\"n\">slate_paper</p><p class=\"p\">,</p> <p class=\"n\">tc_paper</p><p class=\"p\">,</p> <p class=\"n\">espn_paper</p><p class=\"p\">]</p>\\n<p class=\"gp\">&gt;&gt;&gt; </p><p class=\"n\">news_pool</p><p class=\"o\">.</p><p class=\"n\">set</p><p class=\"p\">(</p><p class=\"n\">papers</p><p class=\"p\">,</p> <p class=\"n\">threads_per_source</p><p class=\"o\">=</p><p class=\"mi\">2</p><p class=\"p\">)</p> <p class=\"c1\"># (3*2) = 6 threads total</p>\\n<p class=\"gp\">&gt;&gt;&gt; </p><p class=\"n\">news_pool</p><p class=\"o\">.</p><p class=\"n\">join</p><p class=\"p\">()</p>\\n\\n<p class=\"go\">At this point, you can safely assume that download() has been</p>\\n<p class=\"go\">called on every single article for all 3 sources.</p>\\n\\n<p class=\"gp\">&gt;&gt;&gt; </p><p class=\"k\">print</p><p class=\"p\">(</p><p class=\"n\">slate_paper</p><p class=\"o\">.</p><p class=\"n\">articles</p><p class=\"p\">[</p><p class=\"mi\">10</p><p class=\"p\">]</p><p class=\"o\">.</p><p class=\"n\">html</p><p class=\"p\">)</p>\\n<p class=\"go\">u\\'&lt;html&gt; ...\\'</p>\\n</pre><h2>Keeping Html of main body article<a class=\"headerlink\" href=\"#keeping-html-of-main-body-article\" title=\"Permalink to this headline\">&#182;</a></h2>\\n<p>Keeping the html of just an article&#8217;s body text is helpbut because it allows you\\nto retain some of the semantic information in the html. Also it will help if you\\nend up displaying the extracted article somehow.</p>\\n<p>Here is how to do so:</p>\\n<pre><p></p><p class=\"gp\">&gt;&gt;&gt; </p><p class=\"kn\">from</p> <p class=\"nn\">newspaper</p> <p class=\"kn\">import</p> <p class=\"n\">Article</p>\\n\\n<p class=\"gp\">&gt;&gt;&gt; </p><p class=\"n\">a</p> <p class=\"o\">=</p> <p class=\"n\">Article</p><p class=\"p\">(</p><p class=\"s1\">\\'http://www.cnn.com/2014/01/12/world/asia/north-korea-charles-smith/index.html\\'</p>\\n<p class=\"go\">    , keep_article_html=True)</p>\\n\\n<p class=\"gp\">&gt;&gt;&gt; </p><p class=\"n\">a</p><p class=\"o\">.</p><p class=\"n\">download</p><p class=\"p\">()</p>\\n<p class=\"gp\">&gt;&gt;&gt; </p><p class=\"n\">a</p><p class=\"o\">.</p><p class=\"n\">parse</p><p class=\"p\">()</p>\\n\\n<p class=\"gp\">&gt;&gt;&gt; </p><p class=\"n\">a</p><p class=\"o\">.</p><p class=\"n\">article_html</p>\\n<p class=\"go\">u\\'&lt;div&gt; \\\\n&lt;p&gt;&lt;strong&gt;(CNN)&lt;/strong&gt; -- Charles Smith insisted Sunda...\\'</p>\\n</pre><p>The lxml (dom object) and top_node (chunk of dom that contains our &#8216;Article&#8217;) are also\\ncached incase users would like to use them.</p>\\n<p>Access <strong>after parsing()</strong> with:</p>\\n<pre><p></p><p class=\"gp\">&gt;&gt;&gt; </p><p class=\"n\">a</p><p class=\"o\">.</p><p class=\"n\">download</p><p class=\"p\">()</p>\\n<p class=\"gp\">&gt;&gt;&gt; </p><p class=\"n\">a</p><p class=\"o\">.</p><p class=\"n\">parse</p><p class=\"p\">()</p>\\n<p class=\"gp\">&gt;&gt;&gt; </p><p class=\"n\">a</p><p class=\"o\">.</p><p class=\"n\">clean_dom</p>\\n<p class=\"go\">&lt;lxml object ...  &gt;</p>\\n\\n<p class=\"gp\">&gt;&gt;&gt; </p><p class=\"n\">a</p><p class=\"o\">.</p><p class=\"n\">clean_top_node</p>\\n<p class=\"go\">&lt;lxml object ...  &gt;</p>\\n</pre><h2>Adding new languages<a class=\"headerlink\" href=\"#adding-new-languages\" title=\"Permalink to this headline\">&#182;</a></h2>\\n<p>First, please reference this file and read from the highlighted line all the way\\ndown to the end of the file.</p>\\n<p><a class=\"reference external\" href=\"https://github.com/codelucas/newspaper/blob/master/newspaper/text.py#L57\">https://github.com/codelucas/newspaper/blob/master/newspaper/text.py#L57</a></p>\\n<p>One aspect of our text extraction algorithm revolves around counting the number of\\n<strong>stopwords</strong> present in a text. Stopwords are: some of the most common, short\\nfunction words, such as the, is, at, which, and on in a language.</p>\\n<p>Reference this line to see it in action:\\n<a class=\"reference external\" href=\"https://github.com/codelucas/newspaper/blob/master/newspaper/extractors.py#L668\">https://github.com/codelucas/newspaper/blob/master/newspaper/extractors.py#L668</a></p>\\n<p><strong>So for latin languages</strong>, it is pretty basic. We first provide a list of\\nstopwords in <code class=\"docutils literal\">stopwords-&lt;language-code&gt;.txt</code> form. We then take some input text and\\ntokenize it into words by splitting the white space. After that we perform some\\nbookkeeping and then proceed to count the number of stopwords present.</p>\\n<p><strong>For non-latin languages</strong>, as you may have noticed in the code above, we need to\\ntokenize the words in a different way, splitting by whitespace simply won&#8217;t work for\\nlanguages like Chinese or Arabic. For the Chinese language we are using a whole new\\nopen source library called jieba to split the text into words. For arabic we are\\nusing a special nltk tokenizer to do the same job.</p>\\n<p><strong>So, to add full text extraction to a new (non-latin) language, we need:</strong></p>\\n<p>1. Push up a stopwords file in the format of <code class=\"docutils literal\">stopwords-&lt;2-char-language-code&gt;.txt</code>\\nin <code class=\"docutils literal\">newspaper/resources/text/.</code></p>\\n<p>2. Provide a way of splitting/tokenizing text in that foreign language into words.\\n<a class=\"reference external\" href=\"https://github.com/codelucas/newspaper/blob/master/newspaper/text.py#L105\">Here are some examples for Chinese, Arabic, English</a></p>\\n<p><strong>For latin languages:</strong></p>\\n<p>1. Push up a stopwords file in the format of <code class=\"docutils literal\">stopwords-&lt;2-char-language-code&gt;.txt</code>\\nin <code class=\"docutils literal\">newspaper/resources/text/.</code> and we are done!</p>\\n<h2>Explicitly building a news source<a class=\"headerlink\" href=\"#explicitly-building-a-news-source\" title=\"Permalink to this headline\">&#182;</a></h2>\\n<p>Instead of using the <code class=\"docutils literal\">newspaper.build(..)</code> api, we can take one step lower\\ninto newspaper&#8217;s <code class=\"docutils literal\">Source</code> api.</p>\\n<pre><p></p><p class=\"gp\">&gt;&gt;&gt; </p><p class=\"kn\">from</p> <p class=\"nn\">newspaper</p> <p class=\"kn\">import</p> <p class=\"n\">Source</p>\\n<p class=\"gp\">&gt;&gt;&gt; </p><p class=\"n\">cnn_paper</p> <p class=\"o\">=</p> <p class=\"n\">Source</p><p class=\"p\">(</p><p class=\"s1\">\\'http://cnn.com\\'</p><p class=\"p\">)</p>\\n\\n<p class=\"gp\">&gt;&gt;&gt; </p><p class=\"k\">print</p><p class=\"p\">(</p><p class=\"n\">cnn_paper</p><p class=\"o\">.</p><p class=\"n\">size</p><p class=\"p\">())</p> <p class=\"c1\"># no articles, we have not built the source</p>\\n<p class=\"go\">0</p>\\n\\n<p class=\"gp\">&gt;&gt;&gt; </p><p class=\"n\">cnn_paper</p><p class=\"o\">.</p><p class=\"n\">build</p><p class=\"p\">()</p>\\n<p class=\"gp\">&gt;&gt;&gt; </p><p class=\"k\">print</p><p class=\"p\">(</p><p class=\"n\">cnn_paper</p><p class=\"o\">.</p><p class=\"n\">size</p><p class=\"p\">())</p>\\n<p class=\"go\">3100</p>\\n</pre><p>Note the <code class=\"docutils literal\">build()</code> method above. You may go lower level and de-abstract it\\nfor absolute control over how your sources are constructed.</p>\\n<pre><p></p><p class=\"gp\">&gt;&gt;&gt; </p><p class=\"n\">cnn_paper</p> <p class=\"o\">=</p> <p class=\"n\">Source</p><p class=\"p\">(</p><p class=\"s1\">\\'http://cnn.com\\'</p><p class=\"p\">)</p>\\n<p class=\"gp\">&gt;&gt;&gt; </p><p class=\"n\">cnn_paper</p><p class=\"o\">.</p><p class=\"n\">download</p><p class=\"p\">()</p>\\n<p class=\"gp\">&gt;&gt;&gt; </p><p class=\"n\">cnn_paper</p><p class=\"o\">.</p><p class=\"n\">parse</p><p class=\"p\">()</p>\\n<p class=\"gp\">&gt;&gt;&gt; </p><p class=\"n\">cnn_paper</p><p class=\"o\">.</p><p class=\"n\">set_categories</p><p class=\"p\">()</p>\\n<p class=\"gp\">&gt;&gt;&gt; </p><p class=\"n\">cnn_paper</p><p class=\"o\">.</p><p class=\"n\">download_categories</p><p class=\"p\">()</p>\\n<p class=\"gp\">&gt;&gt;&gt; </p><p class=\"n\">cnn_paper</p><p class=\"o\">.</p><p class=\"n\">parse_categories</p><p class=\"p\">()</p>\\n<p class=\"gp\">&gt;&gt;&gt; </p><p class=\"n\">cnn_paper</p><p class=\"o\">.</p><p class=\"n\">set_feeds</p><p class=\"p\">()</p>\\n<p class=\"gp\">&gt;&gt;&gt; </p><p class=\"n\">cnn_paper</p><p class=\"o\">.</p><p class=\"n\">download_feeds</p><p class=\"p\">()</p>\\n<p class=\"gp\">&gt;&gt;&gt; </p><p class=\"n\">cnn_paper</p><p class=\"o\">.</p><p class=\"n\">generate_articles</p><p class=\"p\">()</p>\\n\\n<p class=\"gp\">&gt;&gt;&gt; </p><p class=\"k\">print</p><p class=\"p\">(</p><p class=\"n\">cnn_paper</p><p class=\"o\">.</p><p class=\"n\">size</p><p class=\"p\">())</p>\\n<p class=\"go\">3100</p>\\n</pre><p>And voila, we have mimic&#8217;d the <code class=\"docutils literal\">build()</code> method. In the above sequence,\\nevery method is dependant on the method above it. Stop whenever you wish.</p>\\n<h2>Parameters and Configurations<a class=\"headerlink\" href=\"#parameters-and-configurations\" title=\"Permalink to this headline\">&#182;</a></h2>\\n<p>Newspaper provides two api&#8217;s for users to configure their <code class=\"docutils literal\">Article</code> and\\n<code class=\"docutils literal\">Source</code> objects. One is via named parameter passing <strong>recommended</strong> and\\nthe other is via <code class=\"docutils literal\">Config</code> objects.</p>\\n<p>Here are some named parameter passing examples:</p>\\n<pre><p></p><p class=\"gp\">&gt;&gt;&gt; </p><p class=\"kn\">import</p> <p class=\"nn\">newspaper</p>\\n<p class=\"gp\">&gt;&gt;&gt; </p><p class=\"kn\">from</p> <p class=\"nn\">newspaper</p> <p class=\"kn\">import</p> <p class=\"n\">Article</p><p class=\"p\">,</p> <p class=\"n\">Source</p>\\n\\n<p class=\"gp\">&gt;&gt;&gt; </p><p class=\"n\">cnn</p> <p class=\"o\">=</p> <p class=\"n\">newspaper</p><p class=\"o\">.</p><p class=\"n\">build</p><p class=\"p\">(</p><p class=\"s1\">\\'http://cnn.com\\'</p><p class=\"p\">,</p> <p class=\"n\">language</p><p class=\"o\">=</p><p class=\"s1\">\\'en\\'</p><p class=\"p\">,</p> <p class=\"n\">memoize_articles</p><p class=\"o\">=</p><p class=\"bp\">False</p><p class=\"p\">)</p>\\n\\n<p class=\"gp\">&gt;&gt;&gt; </p><p class=\"n\">article</p> <p class=\"o\">=</p> <p class=\"n\">Article</p><p class=\"p\">(</p><p class=\"n\">url</p><p class=\"o\">=</p><p class=\"s1\">\\'http://cnn.com/french/...\\'</p><p class=\"p\">,</p> <p class=\"n\">language</p><p class=\"o\">=</p><p class=\"s1\">\\'fr\\'</p><p class=\"p\">,</p> <p class=\"n\">fetch_images</p><p class=\"o\">=</p><p class=\"bp\">False</p><p class=\"p\">)</p>\\n\\n<p class=\"gp\">&gt;&gt;&gt; </p><p class=\"n\">cnn</p> <p class=\"o\">=</p> <p class=\"n\">Source</p><p class=\"p\">(</p><p class=\"n\">url</p><p class=\"o\">=</p><p class=\"s1\">\\'http://latino.cnn.com/...\\'</p><p class=\"p\">,</p> <p class=\"n\">language</p><p class=\"o\">=</p><p class=\"s1\">\\'es\\'</p><p class=\"p\">,</p> <p class=\"n\">request_timeout</p><p class=\"o\">=</p><p class=\"mi\">10</p><p class=\"p\">,</p>\\n<p class=\"go\">                                                            number_threads=20)</p>\\n</pre><p>Here are some examples of how Config objects are passed.</p>\\n<pre><p></p><p class=\"gp\">&gt;&gt;&gt; </p><p class=\"kn\">import</p> <p class=\"nn\">newspaper</p>\\n<p class=\"gp\">&gt;&gt;&gt; </p><p class=\"kn\">from</p> <p class=\"nn\">newspaper</p> <p class=\"kn\">import</p> <p class=\"n\">Config</p><p class=\"p\">,</p> <p class=\"n\">Article</p><p class=\"p\">,</p> <p class=\"n\">Source</p>\\n\\n<p class=\"gp\">&gt;&gt;&gt; </p><p class=\"n\">config</p> <p class=\"o\">=</p> <p class=\"n\">Config</p><p class=\"p\">()</p>\\n<p class=\"gp\">&gt;&gt;&gt; </p><p class=\"n\">config</p><p class=\"o\">.</p><p class=\"n\">memoize_articles</p> <p class=\"o\">=</p> <p class=\"bp\">False</p>\\n\\n<p class=\"gp\">&gt;&gt;&gt; </p><p class=\"n\">cbs_paper</p> <p class=\"o\">=</p> <p class=\"n\">newspaper</p><p class=\"o\">.</p><p class=\"n\">build</p><p class=\"p\">(</p><p class=\"s1\">\\'http://cbs.com\\'</p><p class=\"p\">,</p> <p class=\"n\">config</p><p class=\"p\">)</p>\\n\\n<p class=\"gp\">&gt;&gt;&gt; </p><p class=\"n\">article_1</p> <p class=\"o\">=</p> <p class=\"n\">Article</p><p class=\"p\">(</p><p class=\"n\">url</p><p class=\"o\">=</p><p class=\"s1\">\\'http://espn/2013/09/...\\'</p><p class=\"p\">,</p> <p class=\"n\">config</p><p class=\"p\">)</p>\\n\\n<p class=\"gp\">&gt;&gt;&gt; </p><p class=\"n\">cbs_paper</p> <p class=\"o\">=</p> <p class=\"n\">Source</p><p class=\"p\">(</p><p class=\"s1\">\\'http://cbs.com\\'</p><p class=\"p\">,</p> <p class=\"n\">config</p><p class=\"p\">)</p>\\n</pre><p>Here is a full list of the configuration options:</p>\\n<p><code class=\"docutils literal\">keep_article_html</code>, default False, &#8220;set to True if you want to preserve html of body text&#8221;</p>\\n<p><code class=\"docutils literal\">http_success_only</code>, default True, &#8220;set to False to capture non 2XX responses as well&#8221;</p>\\n<p><code class=\"docutils literal\">MIN_WORD_COUNT</code>, default 300, &#8220;num of word tokens in article text&#8221;</p>\\n<p><code class=\"docutils literal\">MIN_SENT_COUNT</code>, default 7, &#8220;num of sentence tokens&#8221;</p>\\n<p><code class=\"docutils literal\">MAX_TITLE</code>, default 200, &#8220;num of chars in article title&#8221;</p>\\n<p><code class=\"docutils literal\">MAX_TEXT</code>, default 100000, &#8220;num of chars in article text&#8221;</p>\\n<p><code class=\"docutils literal\">MAX_KEYWORDS</code>, default 35, &#8220;num of keywords in article&#8221;</p>\\n<p><code class=\"docutils literal\">MAX_AUTHORS</code>, default 10, &#8220;num of author names in article&#8221;</p>\\n<p><code class=\"docutils literal\">MAX_SUMMARY</code>, default 5000, &#8220;num of chars of the summary&#8221;</p>\\n<p><code class=\"docutils literal\">MAX_SUMMARY_SENT</code>, default 5, &#8220;num of sentences in summary&#8221;</p>\\n<p><code class=\"docutils literal\">MAX_FILE_MEMO</code>, default 20000, &#8220;python setup.py sdist bdist_wininst upload&#8221;</p>\\n<p><code class=\"docutils literal\">memoize_articles</code>, default True, &#8220;cache and save articles run after run&#8221;</p>\\n<p><code class=\"docutils literal\">fetch_images</code>, default True, &#8220;set this to false if you don&#8217;t care about getting images&#8221;</p>\\n<p><code class=\"docutils literal\">follow_meta_refresh</code>, default False, &#8220;follows a redirect url in a meta refresh html tag&#8221;</p>\\n<p><code class=\"docutils literal\">image_dimension_ration</code>, default 16/9.0, &#8220;max ratio for height/width, we ignore if greater&#8221;</p>\\n<p><code class=\"docutils literal\">language</code>, default &#8216;en&#8217;, &#8220;run <code class=\"docutils literal\">newspaper.languages()</code> to see available options.&#8221;</p>\\n<p><code class=\"docutils literal\">browser_user_agent</code>, default &#8216;newspaper/%s&#8217; % __version__</p>\\n<p><code class=\"docutils literal\">request_timeout</code>, default 7</p>\\n<p><code class=\"docutils literal\">number_threads</code>, default 10, &#8220;number of threads when mthreading&#8221;</p>\\n<p><code class=\"docutils literal\">verbose</code>, default False, &#8220;turn this on when debugging&#8221;</p>\\n<p>You may notice other config options in the <code class=\"docutils literal\">newspaper/configuration.py</code> file,\\nhowever, they are private, <strong>please do not toggle them</strong>.</p>\\n<h2>Caching<a class=\"headerlink\" href=\"#caching\" title=\"Permalink to this headline\">&#182;</a></h2>\\n<p>TODO</p>\\n<h2>Specifications<a class=\"headerlink\" href=\"#specifications\" title=\"Permalink to this headline\">&#182;</a></h2>\\n<p>Here, we will define exactly how newspaper handles a lot of the data extraction.</p>\\n<p>TODO</p>\\n</div>'"
      ]
     },
     "execution_count": 17,
     "metadata": {},
     "output_type": "execute_result"
    }
   ],
   "source": [
    "async def parse_html(url,html):\n",
    "    import newspaper\n",
    "    \n",
    "    ar = newspaper.Article(url, keep_article_html=True)\n",
    "    ar.download(input_html=html)\n",
    "    ar.parse()\n",
    "    return ar.article_html\n",
    "\n",
    "async def get_raw_html(url):\n",
    "    async with aiohttp.ClientSession() as session:\n",
    "        return await fetch(session, url)\n",
    "        \n",
    "async def get_parsed_html(url):\n",
    "    return await parse_html(url, await get_raw_html(url))\n",
    "\n",
    "\n",
    "asyncio.get_event_loop().run_until_complete(get_parsed_html(\"https://newspaper.readthedocs.io/en/latest/user_guide/advanced.html#keeping-html-of-main-body-article\"))"
   ]
  },
  {
   "cell_type": "markdown",
   "metadata": {},
   "source": [
    "#### Writing to database:"
   ]
  },
  {
   "cell_type": "code",
   "execution_count": 18,
   "metadata": {
    "collapsed": true
   },
   "outputs": [],
   "source": [
    "async def write_post_to_db(connection, id, created, subreddit, \n",
    "                           url, num_comments, score, ups, \n",
    "                           downs, title, permalink, gilded, domain, html, article):\n",
    "    # insert into 'url', unless it exists.  \n",
    "    # We try to add the URL first because this is likely to be new and unique, \n",
    "    # and the exception path should be nominally short:\n",
    "    which_not_null_regex = re.compile('^null value in column \"([^\"]+)\"')\n",
    "    try:\n",
    "        await connection.execute('''\n",
    "            INSERT INTO \"urls\" (name, domain, html, article) VALUES \\\n",
    "                ($1, (SELECT domain FROM domains WHERE name = $2), $3, $4) \n",
    "        ''', url, domain, html, article)\n",
    "    except asyncpg.UniqueViolationError as unique:\n",
    "        # we already have this url, so we pass\n",
    "        pass\n",
    "        \n",
    "    except asyncpg.NotNullViolationError as not_null:\n",
    "        m = which_not_null_regex.match(str(not_null))\n",
    "        if m.group(1) == \"domain\":\n",
    "            await connection.execute('''INSERT INTO \"domains\" (name) VALUES ($1)''', domain)\n",
    "            await connection.execute('''\n",
    "                INSERT INTO \"urls\" (name, domain, html, article) VALUES \\\n",
    "                    ($1, (SELECT domain FROM domains WHERE name = $2), $3, $4) \n",
    "            ''', url, domain, html, article)\n",
    "        else:\n",
    "            raise not_null\n",
    "\n",
    "    try:\n",
    "        await connection.execute('''\n",
    "            INSERT INTO \"posts\" (id, created, subreddit, url, num_comments, score, ups, downs, title, permalink, gilded) VALUES \\\n",
    "                ($1, $2, (SELECT subreddit FROM subreddits WHERE name=$3), (SELECT url FROM urls WHERE name=$4), $5, $6, $7, $8, $9, $10, $11)\n",
    "            ''', id, created, subreddit, url, num_comments, score, ups, downs, title, permalink, gilded)\n",
    "    except asyncpg.NotNullViolationError as not_null:\n",
    "        m = which_not_null_regex.match(str(not_null))\n",
    "        if m.group(1) == \"subreddit\":\n",
    "            await connection.execute('''INSERT INTO \"subreddits\" (name) VALUES ($1)''', subreddit)\n",
    "            await connection.execute('''\n",
    "            INSERT INTO \"posts\" (id, created, subreddit, url, num_comments, score, ups, downs, title, permalink, gilded) VALUES \\\n",
    "                ($1, $2, (SELECT subreddit FROM subreddits WHERE name=$3), (SELECT url FROM urls WHERE name=$4), $5, $6, $7, $8, $9, $10, $11)\n",
    "            ''', id, created, subreddit, url, num_comments, score, ups, downs, title, permalink, gilded)\n",
    "        else:\n",
    "            raise not_null\n",
    "    \n",
    "    \n",
    "    \n",
    "async def test_write_post_to_db():\n",
    "    from datetime import datetime\n",
    "    conn = await asyncpg.connect(user=\"postgres\",password=pg_password, database=pg_database,host=\"127.0.0.1\")\n",
    "    await write_post_to_db(conn, \"aaaa\", datetime.utcfromtimestamp(1491262105), \"nfl\", \"http://espn.com/blahbloo/hello.html\",10,10,11,1,\n",
    "                     \"espn\",\"aaaa/blah/blah\",None,\"espn.com\",b\"<html>some html stuff<\\html>\",\"some html stuff\")\n"
   ]
  },
  {
   "cell_type": "markdown",
   "metadata": {},
   "source": [
    "This allows us to add a post, including adding the URL, subreddit and domain if they don't exist, and will throw an error if the post exists."
   ]
  },
  {
   "cell_type": "code",
   "execution_count": 19,
   "metadata": {},
   "outputs": [
    {
     "ename": "ModuleNotFoundError",
     "evalue": "No module named 'ty'",
     "output_type": "error",
     "traceback": [
      "\u001b[0;31m---------------------------------------------------------------------------\u001b[0m",
      "\u001b[0;31mModuleNotFoundError\u001b[0m                       Traceback (most recent call last)",
      "\u001b[0;32m<ipython-input-19-d2ef36201ab8>\u001b[0m in \u001b[0;36m<module>\u001b[0;34m()\u001b[0m\n\u001b[0;32m----> 1\u001b[0;31m \u001b[0;32mimport\u001b[0m \u001b[0mty\u001b[0m\u001b[0;34m\u001b[0m\u001b[0m\n\u001b[0m",
      "\u001b[0;31mModuleNotFoundError\u001b[0m: No module named 'ty'"
     ]
    }
   ],
   "source": [
    "import ty"
   ]
  },
  {
   "cell_type": "code",
   "execution_count": null,
   "metadata": {},
   "outputs": [],
   "source": [
    "type(datetime)"
   ]
  },
  {
   "cell_type": "code",
   "execution_count": null,
   "metadata": {
    "collapsed": true
   },
   "outputs": [],
   "source": [
    "from typing import NamedTuple, Type\n",
    "\n",
    "class Post(NamedTuple):\n",
    "    id: str\n",
    "    created: Type[datetime]\n",
    "    subreddit: str\n",
    "    domain: str\n",
    "    url: str\n",
    "    num_comments: int\n",
    "    score: int\n",
    "    ups: int\n",
    "    downs: int\n",
    "    title: str\n",
    "    permalink: str\n",
    "    gilded: int\n",
    "\n",
    "def pre_processing(created, subreddit, domain, url, num_comments, score, ups,\n",
    "                   downs, title, permalink, gilded):\n",
    "    created = datetime.utcfromtimestamp(created)\n",
    "    id = permalink.split(\"/\")[4]\n",
    "    return Post(id, created, subreddit, domain, url, num_comments, score, ups,\n",
    "                downs, title, permalink, gilded)\n"
   ]
  },
  {
   "cell_type": "code",
   "execution_count": null,
   "metadata": {
    "scrolled": false
   },
   "outputs": [],
   "source": [
    "from collections import namedtuple\n",
    "from datetime import datetime\n",
    "\n",
    "table = get_table()\n",
    "data_iter = table.fetch_data(max_results=10)\n",
    "#Post = namedtuple(\"Post\", [ x.name for x in table.schema ])\n",
    "\n",
    "for item in data_iter:\n",
    "    print(item)\n",
    "    p = pre_processing(*item)\n",
    "    print(p)\n",
    "    print(\"======\")\n",
    "#    p.created_utc = datetime.utcfromtimestamp(p.created_utc)\n",
    "#    print(p)"
   ]
  },
  {
   "cell_type": "code",
   "execution_count": null,
   "metadata": {
    "collapsed": true
   },
   "outputs": [],
   "source": [
    "t"
   ]
  }
 ],
 "metadata": {
  "kernelspec": {
   "display_name": "pocket_replacement",
   "language": "python",
   "name": "pocket_replacement_kernel"
  },
  "language_info": {
   "codemirror_mode": {
    "name": "ipython",
    "version": 3
   },
   "file_extension": ".py",
   "mimetype": "text/x-python",
   "name": "python",
   "nbconvert_exporter": "python",
   "pygments_lexer": "ipython3",
   "version": "3.6.1"
  }
 },
 "nbformat": 4,
 "nbformat_minor": 2
}
